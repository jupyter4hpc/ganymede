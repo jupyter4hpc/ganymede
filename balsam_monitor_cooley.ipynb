{
 "cells": [
  {
   "cell_type": "code",
   "execution_count": 4,
   "metadata": {},
   "outputs": [
    {
     "name": "stdout",
     "output_type": "stream",
     "text": [
      "Collecting package metadata (current_repodata.json): done\n",
      "Solving environment: done\n",
      "\n",
      "## Package Plan ##\n",
      "\n",
      "  environment location: /home/keceli/.conda/envs/jhub_py3.6\n",
      "\n",
      "  added / updated specs:\n",
      "    - python=3.6\n",
      "\n",
      "\n",
      "The following NEW packages will be INSTALLED:\n",
      "\n",
      "  bzip2              intel/linux-64::bzip2-1.0.8-h14c3975_2\n",
      "  certifi            intel/linux-64::certifi-2018.1.18-py36_2\n",
      "  intelpython        intel/linux-64::intelpython-2020.2-0\n",
      "  libgcc-ng          intel/linux-64::libgcc-ng-9.1.0-hdf63c60_0\n",
      "  openssl            intel/linux-64::openssl-1.0.2s-0\n",
      "  pip                intel/linux-64::pip-19.1.1-py36_0\n",
      "  python             intel/linux-64::python-3.6.9-5\n",
      "  setuptools         intel/linux-64::setuptools-41.0.1-py36_0\n",
      "  sqlite             intel/linux-64::sqlite-3.28.0-0\n",
      "  tcl                intel/linux-64::tcl-8.6.4-24\n",
      "  tk                 intel/linux-64::tk-8.6.4-29\n",
      "  wheel              intel/linux-64::wheel-0.31.0-py36_3\n",
      "  xz                 intel/linux-64::xz-5.2.5-h14c3975_0\n",
      "  zlib               intel/linux-64::zlib-1.2.11.1-h14c3975_1\n",
      "\n",
      "\n",
      "Preparing transaction: done\n",
      "Verifying transaction: done\n",
      "Executing transaction: done\n",
      "#\n",
      "# To activate this environment, use\n",
      "#\n",
      "#     $ conda activate jhub_py3.6\n",
      "#\n",
      "# To deactivate an active environment, use\n",
      "#\n",
      "#     $ conda deactivate\n",
      "\n"
     ]
    }
   ],
   "source": [
    "!conda create -y -n jhub_py3.6 python=3.6"
   ]
  },
  {
   "cell_type": "code",
   "execution_count": 6,
   "metadata": {},
   "outputs": [
    {
     "name": "stdout",
     "output_type": "stream",
     "text": [
      "Collecting package metadata (current_repodata.json): done\n",
      "Solving environment: done\n",
      "\n",
      "## Package Plan ##\n",
      "\n",
      "  environment location: /home/keceli/.conda/envs/jhub_py3.6\n",
      "\n",
      "  added / updated specs:\n",
      "    - ipykernel\n",
      "    - jupyter\n",
      "    - nb_conda\n",
      "\n",
      "\n",
      "The following packages will be downloaded:\n",
      "\n",
      "    package                    |            build\n",
      "    ---------------------------|-----------------\n",
      "    nb_conda-2.2.1             |           py36_0          32 KB\n",
      "    nb_conda_kernels-2.2.3     |           py36_0          39 KB\n",
      "    ------------------------------------------------------------\n",
      "                                           Total:          71 KB\n",
      "\n",
      "The following NEW packages will be INSTALLED:\n",
      "\n",
      "  backcall           intel/linux-64::backcall-0.1.0-py36_2\n",
      "  backports          intel/linux-64::backports-1.0-py36_9\n",
      "  bleach             intel/linux-64::bleach-2.1.3-py36_2\n",
      "  decorator          intel/linux-64::decorator-4.3.0-py36_3\n",
      "  entrypoints        intel/linux-64::entrypoints-0.2.3-py36_2\n",
      "  get_terminal_size  intel/linux-64::get_terminal_size-1.0.0-py36_7\n",
      "  html5lib           intel/linux-64::html5lib-1.0.1-py36_4\n",
      "  ipykernel          intel/linux-64::ipykernel-4.6.1-py36_2\n",
      "  ipython            intel/linux-64::ipython-6.3.1-py36_3\n",
      "  ipython_genutils   intel/linux-64::ipython_genutils-0.2.0-py36_2\n",
      "  ipywidgets         intel/linux-64::ipywidgets-7.0.0-py36_2\n",
      "  jedi               intel/linux-64::jedi-0.12.0-py36_2\n",
      "  jinja2             intel/linux-64::jinja2-2.9.6-py36_2\n",
      "  jsonschema         intel/linux-64::jsonschema-2.6.0-py36_2\n",
      "  jupyter            intel/linux-64::jupyter-1.0.0-py36_7\n",
      "  jupyter_client     intel/linux-64::jupyter_client-5.1.0-py36_5\n",
      "  jupyter_console    intel/linux-64::jupyter_console-5.1.0-py36_2\n",
      "  jupyter_core       intel/linux-64::jupyter_core-4.4.0-py36_6\n",
      "  libsodium          intel/linux-64::libsodium-1.0.16-3\n",
      "  markupsafe         intel/linux-64::markupsafe-1.0-py36_3\n",
      "  mistune            intel/linux-64::mistune-0.8.3-py36_2\n",
      "  nb_conda           pkgs/main/linux-64::nb_conda-2.2.1-py36_0\n",
      "  nb_conda_kernels   pkgs/main/linux-64::nb_conda_kernels-2.2.3-py36_0\n",
      "  nbconvert          intel/linux-64::nbconvert-5.2.1-py36_2\n",
      "  nbformat           intel/linux-64::nbformat-4.4.0-py36_2\n",
      "  notebook           intel/linux-64::notebook-5.2.2-py36_1\n",
      "  pandocfilters      intel/linux-64::pandocfilters-1.4.1-py36_2\n",
      "  parso              intel/linux-64::parso-0.2.0-py36_2\n",
      "  path.py            intel/linux-64::path.py-11.0.1-py36_2\n",
      "  pexpect            intel/linux-64::pexpect-4.2.1-py36_4\n",
      "  pickleshare        intel/linux-64::pickleshare-0.7.4-py36_3\n",
      "  prompt_toolkit     intel/linux-64::prompt_toolkit-1.0.15-py36_2\n",
      "  ptyprocess         intel/linux-64::ptyprocess-0.5.2-py36_2\n",
      "  pygments           intel/linux-64::pygments-2.2.0-py36_5\n",
      "  python-dateutil    intel/linux-64::python-dateutil-2.8.0-py36_0\n",
      "  pyzmq              intel/linux-64::pyzmq-16.0.2-py36_6\n",
      "  simplegeneric      intel/linux-64::simplegeneric-0.8.1-py36_7\n",
      "  six                intel/linux-64::six-1.12.0-py36_0\n",
      "  terminado          intel/linux-64::terminado-0.8.1-py36_2\n",
      "  testpath           intel/linux-64::testpath-0.3.1-py36_2\n",
      "  tornado            intel/linux-64::tornado-4.5.2-py36_5\n",
      "  traitlets          intel/linux-64::traitlets-4.3.2-py36_3\n",
      "  wcwidth            intel/linux-64::wcwidth-0.1.7-py36_6\n",
      "  webencodings       intel/linux-64::webencodings-0.5.1-py36_0\n",
      "  widgetsnbextension intel/linux-64::widgetsnbextension-3.2.0-py36_1\n",
      "  zeromq             intel/linux-64::zeromq-4.2.3-2\n",
      "\n",
      "\n",
      "\n",
      "Downloading and Extracting Packages\n",
      "nb_conda-2.2.1       | 32 KB     | ##################################### | 100% \n",
      "nb_conda_kernels-2.2 | 39 KB     | ##################################### | 100% \n",
      "Preparing transaction: done\n",
      "Verifying transaction: done\n",
      "Executing transaction: - b'Enabling nb_conda_kernels...\\nStatus: enabled\\n'\n",
      "\\ b'Enabling notebook extension nb_conda/main...\\n      - Validating: \\x1b[32mOK\\x1b[0m\\nEnabling tree extension nb_conda/tree...\\n      - Validating: \\x1b[32mOK\\x1b[0m\\nEnabling: nb_conda\\n- Writing config: /home/keceli/.conda/envs/jhub_py3.6/etc/jupyter\\n    - Validating...\\n      nb_conda  \\x1b[32mOK\\x1b[0m\\n'\n",
      "done\n"
     ]
    }
   ],
   "source": [
    "!source activate jhub_py3.6; conda install -y jupyter nb_conda ipykernel"
   ]
  },
  {
   "cell_type": "code",
   "execution_count": 7,
   "metadata": {},
   "outputs": [
    {
     "name": "stdout",
     "output_type": "stream",
     "text": [
      "Installed kernelspec jhub_py3.6 in /gpfs/mira-home/keceli/.local/share/jupyter/kernels/jhub_py3.6\r\n"
     ]
    }
   ],
   "source": [
    "!source activate jhub_py3.6; python -m ipykernel install --user --name jhub_py3.6"
   ]
  },
  {
   "cell_type": "markdown",
   "metadata": {},
   "source": [
    "## Using Kernel menu on top, change kernel to jhub_py3.6. If you don't see this option refresh your browser."
   ]
  },
  {
   "cell_type": "code",
   "execution_count": 1,
   "metadata": {},
   "outputs": [],
   "source": [
    "# The magic commands below allow reflecting the changes in an imported module without restarting the kernel.\n",
    "%load_ext autoreload\n",
    "%autoreload 2\n",
    "\n",
    "# We need to add balsam and the modules it depends on to the Python search paths. \n",
    "import sys\n",
    "### For theta\n",
    "#sys.path.insert(0,'/lus/theta-fs0/software/datascience/Balsam/0.3.5.1/env/lib/python3.6/site-packages/')\n",
    "#sys.path.insert(0,'/lus/theta-fs0/software/datascience/Balsam/0.3.5.1/')\n",
    "### For cooley\n",
    "sys.path.insert(0,'/soft/datascience/balsam/env/lib64/python3.6/site-packages/')\n",
    "sys.path.insert(0,'/soft/datascience/balsam/balsam')\n",
    "sys.path.insert(0,'/soft/datascience/balsam/pgsql/bin/')\n",
    "# We also need balsam and postgresql to be in the path. (Misha suggests this may not be necessary)\n",
    "import os\n",
    "### For theta\n",
    "#os.environ['PATH'] ='/lus/theta-fs0/software/datascience/Balsam/0.3.5.1/env/bin/:' + os.environ['PATH']\n",
    "#os.environ['PATH'] +=':/lus/theta-fs0/software/datascience/PostgreSQL/9.6.12/bin/'\n",
    "### For cooley\n",
    "os.environ['PATH'] ='/soft/datascience/balsam/env/bin/:' + os.environ['PATH']\n",
    "os.environ['PATH'] +=':/soft/datascience/balsam/pgsql/bin/'\n",
    "try:\n",
    "    import balsam\n",
    "except:\n",
    "    print('Cannot find balsam, make sure balsam is installed or it is available in Python search paths')    \n",
    "\n",
    "# Import widgets\n",
    "from ipywidgets import interact, interactive\n",
    "from ipywidgets import fixed, interact_manual \n",
    "from ipywidgets import Textarea, widgets, Layout, Accordion\n",
    "from ipywidgets import VBox, HBox, Box, Text, BoundedIntText"
   ]
  },
  {
   "cell_type": "code",
   "execution_count": 2,
   "metadata": {},
   "outputs": [
    {
     "name": "stdout",
     "output_type": "stream",
     "text": [
      "There are 10 Balsam databases available.\n",
      "0: /lus/theta-fs0/projects/datascience/keceli/valence_balsam/balsamdb\n",
      "1: /lus/theta-fs0/projects/datascience/keceli/balsam/nwchem_demo/db\n",
      "2: /lus/theta-fs0/projects/datascience/keceli/balsam/simint/simint_db\n",
      "3: /lus/theta-fs0/projects/datascience/keceli/balsam/balsamdb_general\n",
      "4: /lus/theta-fs0/projects/datascience/keceli/balsam/jupyter_test\n",
      "5: /lus/theta-fs0/projects/connectomics_aesp/balsam_database\n",
      "6: /lus/theta-fs0/projects/datascience/keceli/container/scaling_test/connectomics\n",
      "7: /lus/theta-fs0/projects/datascience/keceli/nwx/nwx_db\n",
      "8: /home/keceli/test_balsam\n",
      "9: /gpfs/mira-home/keceli/test_balsam\n"
     ]
    },
    {
     "data": {
      "application/vnd.jupyter.widget-view+json": {
       "model_id": "e35b51d61f9a4dbda673b1a15c505bfe",
       "version_major": 2,
       "version_minor": 0
      },
      "text/plain": [
       "A Jupyter Widget"
      ]
     },
     "metadata": {},
     "output_type": "display_data"
    }
   ],
   "source": [
    "from balsam import django_config\n",
    "from balsam.django_config.db_index import refresh_db_index\n",
    "\n",
    "databasepaths = []\n",
    "databasepaths.extend(refresh_db_index())\n",
    "print(f'There are {len(databasepaths)} Balsam databases available.')\n",
    "for i,db in enumerate(databasepaths):\n",
    "    print(f'{i}: {db}')\n",
    "\n",
    "@interact(db=[(i,db) for i,db in enumerate(databasepaths)])\n",
    "def activate_database(db=''):\n",
    "    \"\"\"\n",
    "    Activates Balsam database by setting the BALSAM_DB_PATH environment variable.\n",
    "    Note: Once BALSAM_DB_PATH is set, you need to restart Jupyter kernel to change it again.\n",
    "    \"\"\"\n",
    "    os.environ[\"BALSAM_DB_PATH\"] = db\n",
    "    print(f'Selected database: {os.environ[\"BALSAM_DB_PATH\"]}')"
   ]
  },
  {
   "cell_type": "code",
   "execution_count": 3,
   "metadata": {},
   "outputs": [
    {
     "name": "stdout",
     "output_type": "stream",
     "text": [
      "Found 0 apps in /gpfs/mira-home/keceli/test_balsam:\n"
     ]
    }
   ],
   "source": [
    "# If balsam server is not running (happens after theta maintanence) you get:\n",
    "# \"OperationalError: could not connect to server: Connection refused\"\n",
    "# This exception is caught here and it tries to restart the server.\n",
    "\n",
    "from balsam.core.models import ApplicationDefinition as App\n",
    "from balsam.scripts import postgres_control\n",
    "\n",
    "try:\n",
    "    apps = App.objects.all()\n",
    "    print(f'Found {len(apps)} apps in {os.environ[\"BALSAM_DB_PATH\"]}:')\n",
    "    for i,app in enumerate(apps):\n",
    "        print(f'{i}: {app.name}')\n",
    "except Exception as e:\n",
    "    if 'could not connect to server' in e:\n",
    "        print('Exception caught. Could not connect to server.')\n",
    "        print(f'Trying to restart the Balsam server {os.environ[\"BALSAM_DB_PATH\"]} ...')\n",
    "        try:\n",
    "            postgres_control.start_main(os.environ[\"BALSAM_DB_PATH\"])\n",
    "        except Exception as e:\n",
    "            print('Exception caught:')\n",
    "            print(e.with_traceback())         \n",
    "    else:\n",
    "        print('Exception caught:')\n",
    "        print(e.with_traceback())\n"
   ]
  },
  {
   "cell_type": "code",
   "execution_count": 16,
   "metadata": {},
   "outputs": [
    {
     "data": {
      "application/vnd.jupyter.widget-view+json": {
       "model_id": "9f09222208c144abb221af4c482a4999",
       "version_major": 2,
       "version_minor": 0
      },
      "text/plain": [
       "interactive(children=(Text(value='', description='name'), Text(value='', description='executable'), Text(value…"
      ]
     },
     "metadata": {},
     "output_type": "display_data"
    }
   ],
   "source": [
    "#apps = App.objects.all()\n",
    "@interact(name='',executable='',checkexe=False,description='',preprocess='',postprocess='',saveapp=False)\n",
    "def add_app(name, executable, description='', envscript='', preprocess='', postprocess='', checkexe=False,saveapp=False):\n",
    "    \"\"\"\n",
    "    Adds a new app to the balsam database.\n",
    "    Parameters\n",
    "    ----------\n",
    "    name: str, name of the app\n",
    "    executable: str, path to the executable\n",
    "    checkexe: boolean, True: check if executable is available\n",
    "    description: str, info about the app\n",
    "    preprocess: str, path to the preprocessing script\n",
    "    postprocess: str, path to the postprocessing script\n",
    "    saveapp: boolean, True: save app to the database\n",
    "    \"\"\"\n",
    "    from balsam.core.models import ApplicationDefinition as App\n",
    "    import shutil\n",
    "    newapp = App()\n",
    "    if checkexe:\n",
    "        if shutil.which(executable):        \n",
    "            print('{} is found'.format(executable))\n",
    "        else:\n",
    "            print('{} is not found'.format(executable))\n",
    "            return newapp\n",
    "        \n",
    "    if App.objects.filter(name=name).exists():\n",
    "        print(\"An application named {} already exists\".format(name))\n",
    "    else:\n",
    "        newapp.name        = name\n",
    "        newapp.executable  = executable\n",
    "        newapp.description = description\n",
    "        newapp.envscript   = envscript\n",
    "        newapp.preprocess  = preprocess\n",
    "        newapp.postprocess = postprocess\n",
    "        if saveapp:\n",
    "            newapp.save()\n",
    "            print(f'{newapp.name} added to the balsam database.')\n",
    "    return newapp\n"
   ]
  },
  {
   "cell_type": "code",
   "execution_count": 16,
   "metadata": {
    "scrolled": true
   },
   "outputs": [],
   "source": [
    "# Not ready, find how to add dictionaries\n",
    "#apps = App.objects.all()\n",
    "#appnames = [app.name for app in apps]\n",
    "@interact(name='', workflow='', application=appnames, description='', args='', num_nodes=range(1,4394), ranks_per_node=range(1,256),cpu_affinity=['depth','none'],data={},environ_vars={})\n",
    "def add_job(name, workflow, application, description='', args='', num_nodes=1, ranks_per_node=1,cpu_affinity='depth',data={},environ_vars={}):\n",
    "    from balsam.launcher.dag import BalsamJob\n",
    "    job                = BalsamJob()\n",
    "    job.name           = name\n",
    "    job.workflow       = workflow\n",
    "    job.application    = application\n",
    "    job.description    = description\n",
    "    job.args           = args\n",
    "    job.num_nodes      = num_nodes\n",
    "    job.ranks_per_node = ranks_per_node\n",
    "    job.cpu_affinity   = cpu_affinity\n",
    "    job.environ_vars   = environ_vars\n",
    "    job.data           = {}\n",
    "    job.save()"
   ]
  },
  {
   "cell_type": "code",
   "execution_count": 5,
   "metadata": {},
   "outputs": [
    {
     "data": {
      "application/vnd.jupyter.widget-view+json": {
       "model_id": "5194240aa7984cd1965033ef878b1db2",
       "version_major": 2,
       "version_minor": 0
      },
      "text/plain": [
       "interactive(children=(Text(value='', description='job_id'), Checkbox(value=False, description='show_output'), …"
      ]
     },
     "metadata": {},
     "output_type": "display_data"
    }
   ],
   "source": [
    "#def print_job_info(id=''):\n",
    "@interact(job_id='',show_output=False)\n",
    "def get_job_info(job_id='',show_output=False):\n",
    "    \"\"\"\n",
    "    Prints verbose job info for a given job id.\n",
    "    Parameters\n",
    "    ----------\n",
    "    job_id: str, Partial or full Balsam job id.\n",
    "    \"\"\"\n",
    "    from balsam.launcher.dag import BalsamJob as Job\n",
    "    jobs = Job.objects.all().filter(job_id__contains=job_id)\n",
    "    if len(jobs) == 1:\n",
    "        thejob = jobs[0]\n",
    "        print(jobs[0])\n",
    "        if show_output:\n",
    "            output = f'{thejob.working_directory}/{thejob.name}.out'\n",
    "            with open(output) as f:\n",
    "                out = f.read()\n",
    "            print(f'Output file {output} content:')\n",
    "            print(out)\n",
    "    elif len(jobs) == 0:\n",
    "        print('No matching jobs')\n",
    "    else:\n",
    "        print(f'{len(jobs)} jobs matched, enter full id.')"
   ]
  },
  {
   "cell_type": "code",
   "execution_count": 17,
   "metadata": {
    "scrolled": true
   },
   "outputs": [
    {
     "data": {
      "application/vnd.jupyter.widget-view+json": {
       "model_id": "2eafb6054148498a9ade5421e343d279",
       "version_major": 2,
       "version_minor": 0
      },
      "text/plain": [
       "interactive(children=(Dropdown(description='state', options=('ALL', 'CREATED', 'AWAITING_PARENTS', 'READY', 'S…"
      ]
     },
     "metadata": {},
     "output_type": "display_data"
    }
   ],
   "source": [
    "from balsam.launcher.dag import BalsamJob as Job\n",
    "#for job in Job.objects.filter(state='JOB_FINISHED',workflow='wf_test_valence190705').all():\n",
    "from balsam.core.models import ApplicationDefinition as App\n",
    "allstates = ['ALL',\n",
    "             'CREATED',\n",
    "             'AWAITING_PARENTS',\n",
    "             'READY',\n",
    "             'STAGED_IN',\n",
    "             'PREPROCESSED',\n",
    "             'RUNNING',\n",
    "             'RUN_DONE',\n",
    "             'POSTPROCESSED',\n",
    "             'JOB_FINISHED',\n",
    "             'RUN_TIMEOUT',\n",
    "             'RUN_ERROR',\n",
    "             'RESTART_READY',\n",
    "             'FAILED',\n",
    "             'USER_KILLED']\n",
    "allworkflows = [wf['workflow'] for wf in Job.objects.order_by().values('workflow').distinct()]\n",
    "allworkflows.append('ALL')\n",
    "allapps = [app.name for app in App.objects.all()]\n",
    "allapps.append('ALL')\n",
    "@interact(state=allstates,workflow=allworkflows,app=allapps,name='')\n",
    "def list_jobs(state='ALL',workflow='ALL',app='ALL',name=''):\n",
    "    jobs = Job.objects.all()\n",
    "    print(f'Total number of jobs: {len(jobs)}')\n",
    "    if state != 'ALL':\n",
    "        jobs = jobs.filter(state=state)\n",
    "    if workflow != 'ALL':\n",
    "        jobs = jobs.filter(workflow=workflow)\n",
    "    if app != 'ALL':\n",
    "        jobs = jobs.filter(application=app)\n",
    "    if name:\n",
    "        jobs = jobs.filter(name__icontains=name)\n",
    "    print(f'Selected number of jobs: {len(jobs)}')\n",
    "    if len(jobs) > 0: \n",
    "        t = '{:<20}'.format('Name')\n",
    "        t += ' {:>8}'.format('Nodes')\n",
    "        t += ' {:>12}'.format('Ranks')\n",
    "        t += ' {:^8}'.format('ID')\n",
    "        if state =='JOB_FINISHED':\n",
    "            t += '{:>12}'.format('Runtime')\n",
    "        elif state =='ALL':\n",
    "            t += '{:>15}'.format('State')\n",
    "        print(t)\n",
    "        for job in jobs:\n",
    "            s = '{:<20.15}'.format(job.name)\n",
    "            s += ' {:>8}'.format(job.num_nodes)\n",
    "            s += ' {:>12}'.format(job.num_ranks)\n",
    "            s += '  {:>8}'.format(str(job.job_id).split('-')[0])            \n",
    "\n",
    "            if state =='JOB_FINISHED':\n",
    "                s += '{:>12.3f}'.format(job.runtime_seconds)\n",
    "            elif state =='ALL':\n",
    "                s += '{:>15}'.format(job.state)\n",
    "            print(s)"
   ]
  },
  {
   "cell_type": "code",
   "execution_count": null,
   "metadata": {},
   "outputs": [],
   "source": []
  }
 ],
 "metadata": {
  "kernelspec": {
   "display_name": "jhub_py3.6",
   "language": "python",
   "name": "jhub_py3.6"
  },
  "language_info": {
   "codemirror_mode": {
    "name": "ipython",
    "version": 3
   },
   "file_extension": ".py",
   "mimetype": "text/x-python",
   "name": "python",
   "nbconvert_exporter": "python",
   "pygments_lexer": "ipython3",
   "version": "3.6.9"
  }
 },
 "nbformat": 4,
 "nbformat_minor": 2
}
