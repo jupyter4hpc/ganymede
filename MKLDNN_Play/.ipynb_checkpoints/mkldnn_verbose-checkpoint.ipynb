{
 "cells": [
  {
   "cell_type": "markdown",
   "metadata": {},
   "source": [
    "<h1><center>Profiling MKLDNN Library</center></h1>\n",
    "\n",
    "\n",
    "### MKLDNN_VERBOSE is an environment variable that enables printing profiling information.This Jupyter Notebook shows the plots of the MKLDNN csv files that are read as dataframes using pandas and interactive widgets for the visualizing graphs."
   ]
  },
  {
   "cell_type": "code",
   "execution_count": 10,
   "metadata": {
    "scrolled": true
   },
   "outputs": [
    {
     "name": "stdout",
     "output_type": "stream",
     "text": [
      "Python version: 3.7.4 (default, Aug 13 2019, 20:35:49) \n",
      "[GCC 7.3.0]\n"
     ]
    }
   ],
   "source": [
    "import numpy\n",
    "import scipy\n",
    "import matplotlib\n",
    "import pandas\n",
    "import sys\n",
    "print('Python version: {}'.format(sys.version))\n",
    "import h5py\n",
    "import pandas as pd\n",
    "import matplotlib.pyplot as plt\n",
    "%matplotlib inline"
   ]
  },
  {
   "cell_type": "markdown",
   "metadata": {},
   "source": [
    "\n",
    "### Link to find more about MKLDNN_VERBOSE : https://oneapi-src.github.io/oneDNN/perf_profile.html"
   ]
  },
  {
   "cell_type": "code",
   "execution_count": 51,
   "metadata": {
    "scrolled": true
   },
   "outputs": [
    {
     "name": "stdout",
     "output_type": "stream",
     "text": [
      "mkldnn_verbose,exec,reorder,jit:uni,undef,in:f32_blocked out:f32_blocked,num:1,1x49x49x49x1,52.4399\r\n",
      "mkldnn_verbose,exec,reorder,jit:uni,undef,in:f32_blocked out:f32_blocked,num:1,1x49x49x49x1,0.729004\r\n",
      "mkldnn_verbose,exec,reorder,jit:uni,undef,in:f32_blocked out:f32_blocked,num:1,1x49x49x49x1,6.43188\r\n",
      "mkldnn_verbose,exec,reorder,jit:uni,undef,in:f32_blocked out:f32_blocked,num:1,1x49x49x49x1,0.687012\r\n",
      "mkldnn_verbose,exec,reorder,jit:uni,undef,in:f32_blocked out:f32_blocked,num:1,1x49x49x49x1,0.548828\r\n",
      "mkldnn_verbose,exec,reorder,jit:uni,undef,in:f32_blocked out:f32_blocked,num:1,1x49x49x49x1,31.2349\r\n",
      "mkldnn_verbose,exec,reorder,jit:uni,undef,in:f32_blocked out:f32_blocked,num:1,1x49x49x49x1,0.494873\r\n",
      "mkldnn_verbose,exec,reorder,jit:uni,undef,in:f32_blocked out:f32_blocked,num:1,1x49x49x49x1,0.653076\r\n",
      "mkldnn_verbose,exec,reorder,jit:uni,undef,in:f32_blocked out:f32_blocked,num:1,1x49x49x49x1,1.28003\r\n",
      "mkldnn_verbose,exec,reorder,jit:uni,undef,in:f32_blocked out:f32_blocked,num:1,1x49x49x49x1,0.644043\r\n"
     ]
    }
   ],
   "source": [
    "!head log_train_hyper_xla_cache_x0_b4_n1_p1_t64_i1_m64_dfalse_nfalse_kk0__r0.001_oadam_s04_329213_.txt.csv"
   ]
  },
  {
   "cell_type": "markdown",
   "metadata": {},
   "source": [
    "### Read the CSV file into dataframe using pandas with the headers so it would be easier for the visualization. "
   ]
  },
  {
   "cell_type": "code",
   "execution_count": 11,
   "metadata": {
    "scrolled": true
   },
   "outputs": [
    {
     "data": {
      "text/html": [
       "<div>\n",
       "<style scoped>\n",
       "    .dataframe tbody tr th:only-of-type {\n",
       "        vertical-align: middle;\n",
       "    }\n",
       "\n",
       "    .dataframe tbody tr th {\n",
       "        vertical-align: top;\n",
       "    }\n",
       "\n",
       "    .dataframe thead th {\n",
       "        text-align: right;\n",
       "    }\n",
       "</style>\n",
       "<table border=\"1\" class=\"dataframe\">\n",
       "  <thead>\n",
       "    <tr style=\"text-align: right;\">\n",
       "      <th></th>\n",
       "      <th>MKL</th>\n",
       "      <th>Stage</th>\n",
       "      <th>Primitive_kind</th>\n",
       "      <th>Primitive_name</th>\n",
       "      <th>Propogation_kind</th>\n",
       "      <th>Data_type_format</th>\n",
       "      <th>Auxiliary</th>\n",
       "      <th>Problem_description</th>\n",
       "      <th>Time(ms)</th>\n",
       "    </tr>\n",
       "  </thead>\n",
       "  <tbody>\n",
       "    <tr>\n",
       "      <th>0</th>\n",
       "      <td>mkldnn_verbose</td>\n",
       "      <td>exec</td>\n",
       "      <td>reorder</td>\n",
       "      <td>jit:uni</td>\n",
       "      <td>undef</td>\n",
       "      <td>in:f32_blocked out:f32_blocked</td>\n",
       "      <td>num:1</td>\n",
       "      <td>1x49x49x49x1</td>\n",
       "      <td>52.439900</td>\n",
       "    </tr>\n",
       "    <tr>\n",
       "      <th>1</th>\n",
       "      <td>mkldnn_verbose</td>\n",
       "      <td>exec</td>\n",
       "      <td>reorder</td>\n",
       "      <td>jit:uni</td>\n",
       "      <td>undef</td>\n",
       "      <td>in:f32_blocked out:f32_blocked</td>\n",
       "      <td>num:1</td>\n",
       "      <td>1x49x49x49x1</td>\n",
       "      <td>0.729004</td>\n",
       "    </tr>\n",
       "    <tr>\n",
       "      <th>2</th>\n",
       "      <td>mkldnn_verbose</td>\n",
       "      <td>exec</td>\n",
       "      <td>reorder</td>\n",
       "      <td>jit:uni</td>\n",
       "      <td>undef</td>\n",
       "      <td>in:f32_blocked out:f32_blocked</td>\n",
       "      <td>num:1</td>\n",
       "      <td>1x49x49x49x1</td>\n",
       "      <td>6.431880</td>\n",
       "    </tr>\n",
       "    <tr>\n",
       "      <th>3</th>\n",
       "      <td>mkldnn_verbose</td>\n",
       "      <td>exec</td>\n",
       "      <td>reorder</td>\n",
       "      <td>jit:uni</td>\n",
       "      <td>undef</td>\n",
       "      <td>in:f32_blocked out:f32_blocked</td>\n",
       "      <td>num:1</td>\n",
       "      <td>1x49x49x49x1</td>\n",
       "      <td>0.687012</td>\n",
       "    </tr>\n",
       "    <tr>\n",
       "      <th>4</th>\n",
       "      <td>mkldnn_verbose</td>\n",
       "      <td>exec</td>\n",
       "      <td>reorder</td>\n",
       "      <td>jit:uni</td>\n",
       "      <td>undef</td>\n",
       "      <td>in:f32_blocked out:f32_blocked</td>\n",
       "      <td>num:1</td>\n",
       "      <td>1x49x49x49x1</td>\n",
       "      <td>0.548828</td>\n",
       "    </tr>\n",
       "    <tr>\n",
       "      <th>...</th>\n",
       "      <td>...</td>\n",
       "      <td>...</td>\n",
       "      <td>...</td>\n",
       "      <td>...</td>\n",
       "      <td>...</td>\n",
       "      <td>...</td>\n",
       "      <td>...</td>\n",
       "      <td>...</td>\n",
       "      <td>...</td>\n",
       "    </tr>\n",
       "    <tr>\n",
       "      <th>134023</th>\n",
       "      <td>mkldnn_verbose</td>\n",
       "      <td>exec</td>\n",
       "      <td>eltwise</td>\n",
       "      <td>jit:avx512_common</td>\n",
       "      <td>backward_data</td>\n",
       "      <td>fdata:nCdhw16c fdiff:nCdhw16c</td>\n",
       "      <td>alg:eltwise_relu</td>\n",
       "      <td>mb4ic32ih33iw33</td>\n",
       "      <td>0.708008</td>\n",
       "    </tr>\n",
       "    <tr>\n",
       "      <th>134024</th>\n",
       "      <td>mkldnn_verbose</td>\n",
       "      <td>exec</td>\n",
       "      <td>reorder</td>\n",
       "      <td>jit:uni</td>\n",
       "      <td>undef</td>\n",
       "      <td>in:f32_nCdhw16c out:f32_ndhwc</td>\n",
       "      <td>num:1</td>\n",
       "      <td>4x32x33x33x33</td>\n",
       "      <td>0.797852</td>\n",
       "    </tr>\n",
       "    <tr>\n",
       "      <th>134025</th>\n",
       "      <td>mkldnn_verbose</td>\n",
       "      <td>exec</td>\n",
       "      <td>reorder</td>\n",
       "      <td>simple:any</td>\n",
       "      <td>undef</td>\n",
       "      <td>in:f32_ndhwc out:f32_nCdhw16c</td>\n",
       "      <td>num:1</td>\n",
       "      <td>4x2x33x33x33</td>\n",
       "      <td>0.493164</td>\n",
       "    </tr>\n",
       "    <tr>\n",
       "      <th>134026</th>\n",
       "      <td>mkldnn_verbose</td>\n",
       "      <td>exec</td>\n",
       "      <td>convolution</td>\n",
       "      <td>jit:avx512_common</td>\n",
       "      <td>backward_weights</td>\n",
       "      <td>fsrc:nCdhw16c fwei:OIdhw16i16o fbia:undef fdst...</td>\n",
       "      <td>alg:convolution_direct</td>\n",
       "      <td>mb4_g1ic2oc32_id33od33kd3sd1dd0pd1_ih33oh33kh3...</td>\n",
       "      <td>1.809810</td>\n",
       "    </tr>\n",
       "    <tr>\n",
       "      <th>134027</th>\n",
       "      <td>mkldnn_verbose</td>\n",
       "      <td>exec</td>\n",
       "      <td>reorder</td>\n",
       "      <td>simple:any</td>\n",
       "      <td>undef</td>\n",
       "      <td>in:f32_OIdhw16i16o out:f32_dhwio</td>\n",
       "      <td>num:1</td>\n",
       "      <td>32x2x3x3x3</td>\n",
       "      <td>0.237793</td>\n",
       "    </tr>\n",
       "  </tbody>\n",
       "</table>\n",
       "<p>134028 rows × 9 columns</p>\n",
       "</div>"
      ],
      "text/plain": [
       "                   MKL Stage Primitive_kind     Primitive_name  \\\n",
       "0       mkldnn_verbose  exec        reorder            jit:uni   \n",
       "1       mkldnn_verbose  exec        reorder            jit:uni   \n",
       "2       mkldnn_verbose  exec        reorder            jit:uni   \n",
       "3       mkldnn_verbose  exec        reorder            jit:uni   \n",
       "4       mkldnn_verbose  exec        reorder            jit:uni   \n",
       "...                ...   ...            ...                ...   \n",
       "134023  mkldnn_verbose  exec        eltwise  jit:avx512_common   \n",
       "134024  mkldnn_verbose  exec        reorder            jit:uni   \n",
       "134025  mkldnn_verbose  exec        reorder         simple:any   \n",
       "134026  mkldnn_verbose  exec    convolution  jit:avx512_common   \n",
       "134027  mkldnn_verbose  exec        reorder         simple:any   \n",
       "\n",
       "        Propogation_kind                                   Data_type_format  \\\n",
       "0                  undef                     in:f32_blocked out:f32_blocked   \n",
       "1                  undef                     in:f32_blocked out:f32_blocked   \n",
       "2                  undef                     in:f32_blocked out:f32_blocked   \n",
       "3                  undef                     in:f32_blocked out:f32_blocked   \n",
       "4                  undef                     in:f32_blocked out:f32_blocked   \n",
       "...                  ...                                                ...   \n",
       "134023     backward_data                      fdata:nCdhw16c fdiff:nCdhw16c   \n",
       "134024             undef                      in:f32_nCdhw16c out:f32_ndhwc   \n",
       "134025             undef                      in:f32_ndhwc out:f32_nCdhw16c   \n",
       "134026  backward_weights  fsrc:nCdhw16c fwei:OIdhw16i16o fbia:undef fdst...   \n",
       "134027             undef                   in:f32_OIdhw16i16o out:f32_dhwio   \n",
       "\n",
       "                     Auxiliary  \\\n",
       "0                        num:1   \n",
       "1                        num:1   \n",
       "2                        num:1   \n",
       "3                        num:1   \n",
       "4                        num:1   \n",
       "...                        ...   \n",
       "134023        alg:eltwise_relu   \n",
       "134024                   num:1   \n",
       "134025                   num:1   \n",
       "134026  alg:convolution_direct   \n",
       "134027                   num:1   \n",
       "\n",
       "                                      Problem_description   Time(ms)  \n",
       "0                                            1x49x49x49x1  52.439900  \n",
       "1                                            1x49x49x49x1   0.729004  \n",
       "2                                            1x49x49x49x1   6.431880  \n",
       "3                                            1x49x49x49x1   0.687012  \n",
       "4                                            1x49x49x49x1   0.548828  \n",
       "...                                                   ...        ...  \n",
       "134023                                    mb4ic32ih33iw33   0.708008  \n",
       "134024                                      4x32x33x33x33   0.797852  \n",
       "134025                                       4x2x33x33x33   0.493164  \n",
       "134026  mb4_g1ic2oc32_id33od33kd3sd1dd0pd1_ih33oh33kh3...   1.809810  \n",
       "134027                                         32x2x3x3x3   0.237793  \n",
       "\n",
       "[134028 rows x 9 columns]"
      ]
     },
     "execution_count": 11,
     "metadata": {},
     "output_type": "execute_result"
    }
   ],
   "source": [
    "\n",
    "headers =['MKL','Stage','Primitive_kind','Primitive_name','Propogation_kind','Data_type_format','Auxiliary','Problem_description','Time(ms)']\n",
    "\n",
    "df = pd.read_csv('log_train_hyper_xla_cache_x0_b4_n1_p1_t64_i1_m64_dfalse_nfalse_kk0__r0.001_oadam_s04_329213_.txt.csv', header= None, names=headers)\n",
    "\n",
    "df"
   ]
  },
  {
   "cell_type": "markdown",
   "metadata": {},
   "source": [
    "### To save the csv file locally after performing any operations like sorting ascendingly or descendingly use the follwing syntax "
   ]
  },
  {
   "cell_type": "code",
   "execution_count": 53,
   "metadata": {
    "scrolled": true
   },
   "outputs": [],
   "source": [
    "df=df.sort_values(by='Time(ms)',ascending=False)\n",
    "df.to_csv(\"log_train_ascendingorder_False.csv\")\n"
   ]
  },
  {
   "cell_type": "markdown",
   "metadata": {},
   "source": [
    "### Below code shows the graph visualization for the csv file using ipywidgets interactively. Change the path file in the datafarme if you want to do it on your own data and also the columns names in the below code "
   ]
  },
  {
   "cell_type": "code",
   "execution_count": 28,
   "metadata": {
    "scrolled": true
   },
   "outputs": [
    {
     "data": {
      "application/vnd.jupyter.widget-view+json": {
       "model_id": "20767cff85e743568e1c9415c896df0d",
       "version_major": 2,
       "version_minor": 0
      },
      "text/plain": [
       "Output()"
      ]
     },
     "metadata": {},
     "output_type": "display_data"
    },
    {
     "data": {
      "application/vnd.jupyter.widget-view+json": {
       "model_id": "acb1c5375076476f9eee4dd6857808ec",
       "version_major": 2,
       "version_minor": 0
      },
      "text/plain": [
       "VBox(children=(HBox(children=(Button(description='Primivite_kind', style=ButtonStyle()), Button(description='P…"
      ]
     },
     "metadata": {},
     "output_type": "display_data"
    }
   ],
   "source": [
    "import ipywidgets as widgets\n",
    "from IPython.display import clear_output\n",
    "\n",
    "output = widgets.Output()\n",
    "display(output)\n",
    "\n",
    "\n",
    "Primivite_kind = widgets.Button(description='Primivite_kind')\n",
    "Propogation_kind = widgets.Button(description='Propogation_kind')\n",
    "Stage = widgets.Button(description='Stage')\n",
    "Auxiliary = widgets.Button(description='Auxiliary')\n",
    "Problem_description = widgets.Button(description='Problem_description')\n",
    "\n",
    "def Primivite_kind_clicked(_):\n",
    "    with output,plt.rc_context({'axes.edgecolor':'orange', 'xtick.color':'red', 'ytick.color':'green', 'figure.facecolor':'white'}):\n",
    "        clear_output(True)\n",
    "        sumdf = df.groupby(by='Primitive_kind').sum()\n",
    "        sumdf.plot(kind='bar',title='TF1.13, Batch=4')\n",
    "        plt.tight_layout()\n",
    "        plt.savefig('tf1.13_inference.png')\n",
    "        print(\"Primitive_kind Plot Started\")\n",
    "Primivite_kind.on_click(Primivite_kind_clicked)\n",
    "\n",
    "def Propogation_kind_clicked(_):\n",
    "    with output,plt.rc_context({'axes.edgecolor':'orange', 'xtick.color':'red', 'ytick.color':'green', 'figure.facecolor':'white'}):\n",
    "        clear_output(True)\n",
    "        sumdf = df.groupby(by='Propogation_kind').sum()\n",
    "        sumdf.plot(kind='bar',title='TF1.13, Batch=4')\n",
    "        plt.tight_layout()\n",
    "        plt.savefig('tf1.13_inference.png')\n",
    "        print(\"Propogation_kind Plot Started\")        \n",
    "Propogation_kind.on_click(Propogation_kind_clicked)\n",
    "\n",
    "def Stage_clicked(_):\n",
    "    with output,plt.rc_context({'axes.edgecolor':'orange', 'xtick.color':'red', 'ytick.color':'green', 'figure.facecolor':'white'}):\n",
    "        clear_output(True)\n",
    "        sumdf = df.groupby(by='Stage').sum()\n",
    "        sumdf.plot(kind='bar',title='TF1.13, Batch=4')\n",
    "        plt.tight_layout()\n",
    "        plt.savefig('tf1.13_inference.png')\n",
    "        print(\"Stage Plot Started\")        \n",
    "Stage.on_click(Stage_clicked)\n",
    "\n",
    "def Auxiliary_clicked(_):\n",
    "    with output,plt.rc_context({'axes.edgecolor':'orange', 'xtick.color':'red', 'ytick.color':'green', 'figure.facecolor':'white'}):\n",
    "        clear_output(True)\n",
    "        sumdf = df.groupby(by='Auxiliary').sum()\n",
    "        sumdf.plot(kind='bar',title='TF1.13, Batch=4')\n",
    "        plt.tight_layout()\n",
    "        plt.savefig('tf1.13_inference.png')\n",
    "        print(\"Auxiliary Plot Started\")        \n",
    "Auxiliary.on_click(Auxiliary_clicked)\n",
    "\n",
    "def Problem_description_clicked(_):\n",
    "    with output,plt.rc_context({'axes.edgecolor':'orange', 'xtick.color':'red', 'ytick.color':'green', 'figure.facecolor':'white'}):\n",
    "        clear_output(wait=True)\n",
    "        sumdf = df.groupby(by='Problem_description').sum()\n",
    "        sumdf.plot(kind='bar',title='TF1.13, Batch=4')\n",
    "        #plt.tight_layout()\n",
    "        plt.savefig('tf1.13_inference.png')\n",
    "        print(\"Problem_description Plot Started\")        \n",
    "Problem_description.on_click(Problem_description_clicked)\n",
    "\n",
    "\n",
    "buttons=widgets.HBox([Primivite_kind,Propogation_kind,Stage,Auxiliary,Problem_description])\n",
    "widgets.VBox([buttons,output])\n",
    "\n",
    "\n",
    "\n",
    "\n",
    "\n"
   ]
  },
  {
   "cell_type": "code",
   "execution_count": 31,
   "metadata": {
    "scrolled": false
   },
   "outputs": [
    {
     "data": {
      "application/vnd.jupyter.widget-view+json": {
       "model_id": "71e41eefd4824b7fa689c05aa51fb5e8",
       "version_major": 2,
       "version_minor": 0
      },
      "text/plain": [
       "Dropdown(description='Task:', options=('None', 'Primivite_kind', 'Propogation_kind', 'Stage', 'Auxiliary', 'Pr…"
      ]
     },
     "metadata": {},
     "output_type": "display_data"
    }
   ],
   "source": [
    "w = widgets.Dropdown(\n",
    "    options=['None','Primivite_kind', 'Propogation_kind', 'Stage','Auxiliary','Problem_description'],\n",
    "    value='None',\n",
    "    description='Task:',\n",
    ")\n",
    "\n",
    "def on_change(change):\n",
    "    if change['type'] == 'change' and change['name'] == 'value':\n",
    "        print(\"changed to %s\" % change['new'])\n",
    "        #with output,plt.rc_context({'axes.edgecolor':'orange', 'xtick.color':'red', 'ytick.color':'green', 'figure.facecolor':'white'}):\n",
    "        clear_output(True)\n",
    "        sumdf = df.groupby(by=change).sum()\n",
    "        sumdf.plot(kind='bar',title='TF1.13, Batch=4')\n",
    "        plt.tight_layout()\n",
    "        plt.savefig('tf1.13_inference.png')\n",
    "        print(\"%s Plot Started\" % change['new'])\n",
    "            \n",
    "w.observe(on_change)\n",
    "\n",
    "display(w)"
   ]
  },
  {
   "cell_type": "code",
   "execution_count": 7,
   "metadata": {
    "scrolled": true
   },
   "outputs": [
    {
     "data": {
      "text/plain": [
       "<matplotlib.axes._subplots.AxesSubplot at 0x7fd6ff476c50>"
      ]
     },
     "execution_count": 7,
     "metadata": {},
     "output_type": "execute_result"
    },
    {
     "data": {
      "image/png": "[encoded data removed]",
      "text/plain": [
       "<Figure size 432x288 with 1 Axes>"
      ]
     },
     "metadata": {
      "needs_background": "light"
     },
     "output_type": "display_data"
    }
   ],
   "source": [
    "countdf = df.count(axis=0)\n",
    "groupdf = df.groupby(by='Propogation_kind')\n",
    "groupdf.cumcount()\n",
    "countdf.plot(kind='bar')\n"
   ]
  },
  {
   "cell_type": "code",
   "execution_count": null,
   "metadata": {
    "scrolled": false
   },
   "outputs": [],
   "source": [
    "countdf = df.count(axis=1)\n",
    "groupdf = df.groupby(by='Propogation_kind')\n",
    "groupdf.cumcount()\n",
    "countdf.plot(kind='bar')"
   ]
  },
  {
   "cell_type": "code",
   "execution_count": 49,
   "metadata": {
    "scrolled": false
   },
   "outputs": [
    {
     "data": {
      "application/vnd.jupyter.widget-view+json": {
       "model_id": "3eae6616d09e439b9815a5318bd93ad6",
       "version_major": 2,
       "version_minor": 0
      },
      "text/plain": [
       "Output()"
      ]
     },
     "metadata": {},
     "output_type": "display_data"
    },
    {
     "data": {
      "application/vnd.jupyter.widget-view+json": {
       "model_id": "f431544add664f128cd10b6ba280df9e",
       "version_major": 2,
       "version_minor": 0
      },
      "text/plain": [
       "VBox(children=(HBox(children=(Button(description='Primivite_kind', style=ButtonStyle()), Button(description='P…"
      ]
     },
     "metadata": {},
     "output_type": "display_data"
    }
   ],
   "source": [
    "import ipywidgets as widgets\n",
    "from IPython.display import clear_output\n",
    "\n",
    "output = widgets.Output()\n",
    "display(output)\n",
    "\n",
    "\n",
    "Primivite_kind = widgets.Button(description='Primivite_kind')\n",
    "Primivite_kind_hist = widgets.Button(description='Primivite_kind_hist')\n",
    "Primivite_kind_bar = widgets.Button(description='Primivite_kind_bar')\n",
    "\n",
    "Propogation_kind = widgets.Button(description='Propogation_kind')\n",
    "Propogation_kind_hist = widgets.Button(description='Propogation_kind')\n",
    "\n",
    "Stage = widgets.Button(description='Stage')\n",
    "Auxiliary = widgets.Button(description='Auxiliary')\n",
    "Problem_description = widgets.Button(description='Problem_description')\n",
    "\n",
    "def Primivite_kind_clicked(_):\n",
    "    with output,plt.rc_context({'axes.edgecolor':'orange', 'xtick.color':'red', 'ytick.color':'green', 'figure.facecolor':'white'}):\n",
    "        clear_output(True)\n",
    "        groupkind_df = df.groupby(by='Primitive_kind')\n",
    "        groupkind_df.plot()\n",
    "Primivite_kind.on_click(Primivite_kind_clicked)\n",
    "\n",
    "def Primivite_kind_hist_clicked(_):\n",
    "    with output,plt.rc_context({'axes.edgecolor':'orange', 'xtick.color':'red', 'ytick.color':'green', 'figure.facecolor':'white'}):\n",
    "        clear_output(True)\n",
    "        groupkind_df = df.groupby(by='Primitive_kind')\n",
    "        groupkind_df.plot(kind='hist')\n",
    "Primivite_kind_hist.on_click(Primivite_kind_hist_clicked)\n",
    "\n",
    "def Primivite_kind_bar_clicked(_):\n",
    "    with output,plt.rc_context({'axes.edgecolor':'orange', 'xtick.color':'red', 'ytick.color':'green', 'figure.facecolor':'white'}):\n",
    "        clear_output(True)\n",
    "        groupkind_df = df.groupby(by='Primitive_kind')\n",
    "        groupkind_df.plot(kind='bar')\n",
    "Primivite_kind_bar.on_click(Primivite_kind_bar_clicked)\n",
    "\n",
    "def Propogation_kind_clicked(_):\n",
    "    with output,plt.rc_context({'axes.edgecolor':'orange', 'xtick.color':'red', 'ytick.color':'green', 'figure.facecolor':'white'}):\n",
    "        clear_output(True)\n",
    "        groupkind_df = df.groupby(by='Propogation_kind')\n",
    "        groupkind_df.plot()\n",
    "Propogation_kind.on_click(Propogation_kind_clicked)\n",
    "\n",
    "def Propogation_kind_hist_clicked(_):\n",
    "    with output,plt.rc_context({'axes.edgecolor':'orange', 'xtick.color':'red', 'ytick.color':'green', 'figure.facecolor':'white'}):\n",
    "        clear_output(True)\n",
    "        groupkind_df = df.groupby(by='Propogation_kind')\n",
    "        groupkind_df.plot(kind='hist')\n",
    "Propogation_kind_hist.on_click(Propogation_kind_hist_clicked)\n",
    "\n",
    "def Stage_clicked(_):\n",
    "    with output,plt.rc_context({'axes.edgecolor':'orange', 'xtick.color':'red', 'ytick.color':'green', 'figure.facecolor':'white'}):\n",
    "        clear_output(True)\n",
    "        groupkind_df = df.groupby(by='Stage')\n",
    "        groupkind_df.plot()\n",
    "        plt.savefig('tf1.13_inference.png')\n",
    "Stage.on_click(Stage_clicked)\n",
    "\n",
    "def Auxiliary_clicked(_):\n",
    "    with output,plt.rc_context({'axes.edgecolor':'orange', 'xtick.color':'red', 'ytick.color':'green', 'figure.facecolor':'white'}):\n",
    "        clear_output(True)\n",
    "        groupkind_df = df.groupby(by='Auxiliary')\n",
    "        groupkind_df.plot()\n",
    "        plt.savefig('tf1.13_inference.png')\n",
    "Auxiliary.on_click(Auxiliary_clicked)\n",
    "\n",
    "def Problem_description_clicked(_):\n",
    "    with output,plt.rc_context({'axes.edgecolor':'orange', 'xtick.color':'red', 'ytick.color':'green', 'figure.facecolor':'white'}):\n",
    "        clear_output(wait=True)\n",
    "        groupkind_df = df.groupby(by='Problem_description')\n",
    "        groupkind_df.plot()\n",
    "        plt.savefig('tf1.13_inference.png')\n",
    "Problem_description.on_click(Problem_description_clicked)\n",
    "\n",
    "\n",
    "buttons=widgets.HBox([Primivite_kind,Primivite_kind_hist,Primivite_kind_bar,Propogation_kind,Stage,Auxiliary,Problem_description])\n",
    "widgets.VBox([buttons,output])\n",
    "\n",
    "\n",
    "\n",
    "\n",
    "\n"
   ]
  },
  {
   "cell_type": "markdown",
   "metadata": {},
   "source": [
    "### <--> To view the mkldnn_verbose variables using the grep"
   ]
  },
  {
   "cell_type": "code",
   "execution_count": null,
   "metadata": {},
   "outputs": [],
   "source": [
    "! grep \"mkldnn_verbose\" /var/log/auth.log"
   ]
  },
  {
   "cell_type": "markdown",
   "metadata": {},
   "source": [
    "### <--> Opening a log using follwing code that is generated by .csv file by running a tensorflow program "
   ]
  },
  {
   "cell_type": "code",
   "execution_count": null,
   "metadata": {
    "scrolled": true
   },
   "outputs": [],
   "source": [
    "\n",
    "def parse_mkldnn(filename):\n",
    "    key = 'mkldnn_verbose,'\n",
    "    f2= open(\"log.csv\",\"w+\")\n",
    "    with open(filename,'r') as f:\n",
    "        lines = f.readlines()\n",
    "    for line in lines:\n",
    "        if line.startswith(key):\n",
    "            f2.write(line)\n",
    "parse_mkldnn('log')"
   ]
  },
  {
   "cell_type": "code",
   "execution_count": 41,
   "metadata": {},
   "outputs": [
    {
     "data": {
      "application/vnd.jupyter.widget-view+json": {
       "model_id": "643206543c9b4d1ea1b7d3d193f5d6a7",
       "version_major": 2,
       "version_minor": 0
      },
      "text/plain": [
       "interactive(children=(Dropdown(description='att', options=('Propogation_kind', 'Propogation_kind', 'Stage', 'A…"
      ]
     },
     "metadata": {},
     "output_type": "display_data"
    }
   ],
   "source": [
    "from ipywidgets import interact, interactive, fixed, interact_manual \n",
    "import ipywidgets as widgets\n",
    "\n",
    "def f(att):\n",
    "    #return Books\n",
    "    plt.rc_context({'axes.edgecolor':'orange', 'xtick.color':'red', 'ytick.color':'green', 'figure.facecolor':'white'})\n",
    "    sumdf = df.groupby(by=att).sum()\n",
    "    sumdf.plot(kind='bar',title='TF1.13, Batch=4')\n",
    "    plt.tight_layout()\n",
    "    plt.savefig('tf1.13_inference.png')\n",
    "interact(f, att=['Propogation_kind','Propogation_kind','Stage','Auxiliary','Problem_description']);\n",
    "\n"
   ]
  },
  {
   "cell_type": "code",
   "execution_count": null,
   "metadata": {},
   "outputs": [],
   "source": []
  }
 ],
 "metadata": {
  "kernelspec": {
   "display_name": "Python 3",
   "language": "python",
   "name": "python3"
  },
  "language_info": {
   "codemirror_mode": {
    "name": "ipython",
    "version": 3
   },
   "file_extension": ".py",
   "mimetype": "text/x-python",
   "name": "python",
   "nbconvert_exporter": "python",
   "pygments_lexer": "ipython3",
   "version": "3.7.4"
  }
 },
 "nbformat": 4,
 "nbformat_minor": 4
}
